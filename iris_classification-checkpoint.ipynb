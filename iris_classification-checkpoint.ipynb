{
 "cells": [
  {
   "cell_type": "markdown",
   "id": "8b2613df",
   "metadata": {},
   "source": [
    "# 3.Iris Classification-Classifying irisflowers based on their features usingPython, scikit-learn, and TensorFlow."
   ]
  },
  {
   "cell_type": "markdown",
   "id": "1febc77e",
   "metadata": {},
   "source": [
    "##### Importing Libraries "
   ]
  },
  {
   "cell_type": "code",
   "execution_count": 223,
   "id": "474e7fd3",
   "metadata": {},
   "outputs": [],
   "source": [
    "from sklearn import datasets\n",
    "from sklearn.model_selection import train_test_split\n",
    "from sklearn.neighbors import KNeighborsClassifier\n",
    "from sklearn.linear_model import LogisticRegression\n",
    "from sklearn.tree import DecisionTreeClassifier\n",
    "from sklearn.svm import SVC  # Import SVM\n",
    "from sklearn.metrics import accuracy_score"
   ]
  },
  {
   "cell_type": "markdown",
   "id": "1d09f9b0",
   "metadata": {},
   "source": [
    "##### Loading the data and training the data:"
   ]
  },
  {
   "cell_type": "code",
   "execution_count": 248,
   "id": "6f816561",
   "metadata": {},
   "outputs": [],
   "source": [
    "# Load Iris dataset\n",
    "iris = datasets.load_iris()\n",
    "X = iris.data\n",
    "y = iris.target\n",
    "# Split data into training and testing sets\n",
    "X_train, X_test, y_train, y_test = train_test_split(X, y, test_size=0.25)"
   ]
  },
  {
   "cell_type": "markdown",
   "id": "9623d870",
   "metadata": {},
   "source": [
    "##### Classification and Model Evaluation"
   ]
  },
  {
   "cell_type": "code",
   "execution_count": 249,
   "id": "aca230b9",
   "metadata": {},
   "outputs": [
    {
     "name": "stdout",
     "output_type": "stream",
     "text": [
      "Accuracy with Logistic Regression: 92.11\n"
     ]
    }
   ],
   "source": [
    "# Logistic Regression Classifier\n",
    "logistic_classifier = LogisticRegression()\n",
    "logistic_classifier.fit(X_train, y_train)\n",
    "logistic_predictions = logistic_classifier.predict(X_test)\n",
    "logistic_accuracy = accuracy_score(y_test, logistic_predictions)\n",
    "print(f'Accuracy with Logistic Regression: {logistic_accuracy*100:.2f}')\n"
   ]
  },
  {
   "cell_type": "code",
   "execution_count": 250,
   "id": "c3bddc38",
   "metadata": {},
   "outputs": [
    {
     "name": "stdout",
     "output_type": "stream",
     "text": [
      "Accuracy with Decision Tree: 86.84\n"
     ]
    }
   ],
   "source": [
    "\n",
    "# Decision Tree Classifier\n",
    "decision_classifier = DecisionTreeClassifier()\n",
    "decision_classifier.fit(X_train, y_train)\n",
    "decision_predictions = decision_classifier.predict(X_test)\n",
    "decision_accuracy = accuracy_score(y_test, decision_predictions)\n",
    "print(f'Accuracy with Decision Tree: {decision_accuracy*100:.2f}')\n"
   ]
  },
  {
   "cell_type": "code",
   "execution_count": 251,
   "id": "032c40d1",
   "metadata": {},
   "outputs": [
    {
     "name": "stdout",
     "output_type": "stream",
     "text": [
      "Accuracy with SVM: 92.11\n"
     ]
    }
   ],
   "source": [
    "# Support Vector Machine Classifier (SVM)\n",
    "svm_classifier = SVC()  # Use default settings for SVM\n",
    "svm_classifier.fit(X_train, y_train)\n",
    "svm_predictions = svm_classifier.predict(X_test)\n",
    "svm_accuracy = accuracy_score(y_test, svm_predictions)\n",
    "print(f'Accuracy with SVM: {svm_accuracy*100:.2f}')"
   ]
  },
  {
   "cell_type": "code",
   "execution_count": 252,
   "id": "e9ba7f90",
   "metadata": {},
   "outputs": [
    {
     "name": "stdout",
     "output_type": "stream",
     "text": [
      "Accuracy with KNN: 94.74\n"
     ]
    }
   ],
   "source": [
    "\n",
    "# K-Nearest Neighbors Classifier\n",
    "knn_classifier = KNeighborsClassifier()\n",
    "knn_classifier.fit(X_train, y_train)\n",
    "knn_predictions = knn_classifier.predict(X_test)\n",
    "knn_accuracy = accuracy_score(y_test, knn_predictions)\n",
    "print(f'Accuracy with KNN: {knn_accuracy*100:.2f}')"
   ]
  },
  {
   "cell_type": "markdown",
   "id": "ef5feecb",
   "metadata": {},
   "source": [
    "##### KNN performed the best among the classifiers evaluated on this dataset, achieving the highest accuracy. It seems the KNN model was able to capture the underlying patterns in the Iris dataset effectively.\n",
    "\n",
    "##### Logistic Regression and SVM performed equally well, achieving the same accuracy. Both methods rely on different mathematical approaches for classification, yet they provided similar results on this dataset.\n",
    "\n",
    "##### Decision Tree Classifier achieved a slightly lower accuracy compared to the other models. Decision trees might have faced challenges in capturing complex relationships within the dataset, resulting in slightly lower accuracy."
   ]
  }
 ],
 "metadata": {
  "kernelspec": {
   "display_name": "Python 3 (ipykernel)",
   "language": "python",
   "name": "python3"
  },
  "language_info": {
   "codemirror_mode": {
    "name": "ipython",
    "version": 3
   },
   "file_extension": ".py",
   "mimetype": "text/x-python",
   "name": "python",
   "nbconvert_exporter": "python",
   "pygments_lexer": "ipython3",
   "version": "3.9.7"
  }
 },
 "nbformat": 4,
 "nbformat_minor": 5
}
